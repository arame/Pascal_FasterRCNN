{
 "metadata": {
  "language_info": {
   "codemirror_mode": {
    "name": "ipython",
    "version": 3
   },
   "file_extension": ".py",
   "mimetype": "text/x-python",
   "name": "python",
   "nbconvert_exporter": "python",
   "pygments_lexer": "ipython3",
   "version": 3
  },
  "orig_nbformat": 2
 },
 "nbformat": 4,
 "nbformat_minor": 2,
 "cells": [
  {
   "source": [
    "This code is to run once only. It annotates the images from the test dataset with the ground truth bounding boxes.\n",
    "This is to help compare the results from 02test.ipynb with the ground truth"
   ],
   "cell_type": "markdown",
   "metadata": {}
  },
  {
   "cell_type": "code",
   "execution_count": null,
   "metadata": {},
   "outputs": [],
   "source": [
    "import numpy as np\n",
    "import os, sys, re\n",
    "import time\n",
    "import torch\n",
    "import cv2\n",
    "from pascal_data import PascalVOC2012Dataset\n",
    "from config import Hyper, Constants, OutputStore\n",
    "from utils import load_checkpoint, check_if_target_bbox_degenerate\n",
    "os.environ['KMP_DUPLICATE_LIB_OK'] = 'True'"
   ]
  },
  {
   "cell_type": "code",
   "execution_count": null,
   "metadata": {},
   "outputs": [],
   "source": [
    "def test_gt():\n",
    "    OutputStore.check_folder(OutputStore.dir_output_test_images + \"_gt\")\n",
    "    start_time = time.strftime('%Y/%m/%d %H:%M:%S')\n",
    "    print(\"-\" * 100)\n",
    "    print(f\"{start_time} Starting output of the test images ground truth\")\n",
    "    test_dataloader = PascalVOC2012Dataset.get_data_loader(Constants.dir_test_images, \"test\")\n",
    "    step = 0\n",
    "    for id, batch in enumerate(test_dataloader):\n",
    "        _, X, img, img_file, y = batch\n",
    "        step += 1\n",
    "        if step % 100 == 0:\n",
    "            curr_time = time.strftime('%Y/%m/%d %H:%M:%S')\n",
    "            print(f\"-- {curr_time} step: {step}\")\n",
    "        X, y['labels'], y['boxes'] = X.to(Constants.device), y['labels'].to(Constants.device), y['boxes'].to(\n",
    "            Constants.device)\n",
    "        img_file = img_file[0]\n",
    "        img = np.squeeze(img)\n",
    "        # list of images\n",
    "        images = [im for im in X]\n",
    "        targets = []\n",
    "        lab = {'boxes': y['boxes'].squeeze_(0), 'labels': y['labels'].squeeze_(0)}\n",
    "        targets.append(lab)\n",
    "        is_bb_degenerate = check_if_target_bbox_degenerate(targets)\n",
    "        if is_bb_degenerate:\n",
    "            continue  # Ignore images with degenerate bounding boxes\n",
    "        # avoid empty objects\n",
    "        if len(targets) == 0:\n",
    "            continue\n",
    "\n",
    "        output_annotated_images(targets, img, img_file)\n",
    "\n",
    "\n",
    "def output_annotated_images(targets, img, img_file):\n",
    "    boxes = targets[0][\"boxes\"]\n",
    "    labels = targets[0][\"labels\"]\n",
    "\n",
    "    # this will help us create a different colour for each class\n",
    "    COLOURS = np.random.uniform(0, 255, size=(Hyper.num_classes, 3))\n",
    "    img = cv2.cvtColor(np.array(img), cv2.COLOR_BGR2RGB)\n",
    "    for i, box in enumerate(boxes):\n",
    "        label_index = labels[i]\n",
    "        text = f\"{Hyper.pascal_categories[label_index]}\"\n",
    "        color = COLOURS[labels[i]]\n",
    "        cv2.rectangle(\n",
    "            img,\n",
    "            (int(box[0]), int(box[1])),\n",
    "            (int(box[2]), int(box[3])),\n",
    "            color, 2\n",
    "        )\n",
    "        cv2.putText(img, text, (int(box[0]), int(box[1] - 5)),\n",
    "                    cv2.FONT_HERSHEY_SIMPLEX, 0.5, color, 1,\n",
    "                    lineType=cv2.LINE_AA)\n",
    "\n",
    "    file_bb = img_file.replace(\".jpg\", f\"_out_gt.jpg\")\n",
    "    path = os.path.join(OutputStore.dir_output_test_images + \"_gt\", file_bb)\n",
    "    cv2.imwrite(path, img)\n"
   ]
  },
  {
   "cell_type": "code",
   "execution_count": null,
   "metadata": {},
   "outputs": [],
   "source": [
    "test_gt()   # Run the code"
   ]
  }
 ]
}