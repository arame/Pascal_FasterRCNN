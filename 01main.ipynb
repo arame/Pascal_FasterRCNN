{
 "metadata": {
  "language_info": {
   "codemirror_mode": {
    "name": "ipython",
    "version": 3
   },
   "file_extension": ".py",
   "mimetype": "text/x-python",
   "name": "python",
   "nbconvert_exporter": "python",
   "pygments_lexer": "ipython3",
   "version": 3
  },
  "orig_nbformat": 2
 },
 "nbformat": 4,
 "nbformat_minor": 2,
 "cells": [
  {
   "source": [],
   "cell_type": "markdown",
   "metadata": {}
  },
  {
   "source": [
    "This is where the code for the training is run, start here\n",
    "Pleaase refer to the config.py file for the hyperparameters and details of the folders and files used.\n",
    "Output folders are created automatically in the code, in a directory that is parallel to this one. "
   ],
   "cell_type": "markdown",
   "metadata": {}
  }
 ]
}